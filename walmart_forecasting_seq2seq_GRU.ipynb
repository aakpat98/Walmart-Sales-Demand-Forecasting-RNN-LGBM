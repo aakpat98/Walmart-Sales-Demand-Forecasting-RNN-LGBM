{
 "cells": [
  {
   "cell_type": "markdown",
   "metadata": {},
   "source": [
    "# Walmart M5 Forecasting Solution - Approach 3 & Results\n",
    "\n",
    "## 1. Objective\n",
    "To forecast 28 days of future sales for each Walmart item using a Sequence-to-Sequence (Seq2Seq) model with GRU layers. This approach captures temporal dependencies and generates the full forecast in a single forward pass.\n",
    "\n",
    "---\n",
    "\n",
    "## 2. Data Loading & Preprocessing\n",
    "\n",
    "- Source:\n",
    "  - `sales_train_evaluation.csv`\n",
    "\n",
    "- Process:\n",
    "  - Extracted data starting from `d_350` onwards to reduce memory footprint\n",
    "  - Transposed so each row = day, each column = item\n",
    "  - Normalized using `MinMaxScaler` across the entire matrix\n",
    "\n",
    "---\n",
    "\n",
    "## 3. Feature Engineering\n",
    "\n",
    "- Inputs: 14 most recent days of sales data per item\n",
    "- Outputs: next 28 days of sales to be predicted\n",
    "- Created sliding windows for all available history to form `(X, y)` pairs:\n",
    "  - `X.shape = (samples, 14, num_items)`\n",
    "  - `y.shape = (samples, 28, num_items)`\n",
    "\n",
    "---\n",
    "\n",
    "## 4. Model Architecture\n",
    "\n",
    "Implemented a basic encoder-decoder GRU-based Seq2Seq network:\n",
    "\n",
    "| Component      | Details                                  |\n",
    "|----------------|-------------------------------------------|\n",
    "| Encoder Input  | Shape: (14, num_items)                   |\n",
    "| Encoder GRU    | GRU(64 units), output: (64,)             |\n",
    "| Repeat Vector  | RepeatVector(28), output: (28, 64)       |\n",
    "| Decoder GRU    | GRU(64 units, return_sequences=True)     |\n",
    "| TimeDistributed| Dense(num_items) across all 28 days      |\n",
    "\n",
    "- Loss: Mean Squared Error (MSE)\n",
    "- Optimizer: Adam\n",
    "\n",
    "---\n",
    "\n",
    "## 5. Training Strategy\n",
    "\n",
    "- Trained for 10 epochs\n",
    "- Batch size: 32\n",
    "- No teacher forcing or autoregression\n",
    "- All 28 days predicted in one forward pass\n",
    "\n",
    "---\n",
    "\n",
    "## 6. Forecasting & Submission\n",
    "\n",
    "- Final forecast generated using the most recent 14 days of actual sales\n",
    "- Inverse transformed predictions\n",
    "- Transposed to match Kaggle submission format\n",
    "- Duplicated rows for validation and evaluation sets\n",
    "\n",
    "---\n",
    "\n",
    "## 8. Kaggle Submission Scores\n",
    "\n",
    "| Model         | Private RMSE | Public RMSE |\n",
    "|---------------|-------------|--------------|\n",
    "| Seq2Seq GRU   | 0.99343     | 1.07762      |\n",
    "\n",
    "**Conclusion:** The simple Seq2Seq GRU model provides a baseline for multi-step deep learning forecasting, but underperforms GRU and LightGBM approaches from earlier experiments. Future improvements could include teacher forcing, attention, or autoregressive decoding.\n",
    "\n"
   ]
  },
  {
   "cell_type": "markdown",
   "metadata": {},
   "source": [
    "## Seq2Seq GRU using Transposed Sales Matrix"
   ]
  },
  {
   "cell_type": "code",
   "execution_count": 1,
   "metadata": {
    "_cell_guid": "b1076dfc-b9ad-4769-8c92-a6c4dae69d19",
    "_uuid": "8f2839f25d086af736a60e9eeb907d3b93b6e0e5",
    "execution": {
     "iopub.execute_input": "2025-04-18T15:46:25.799853Z",
     "iopub.status.busy": "2025-04-18T15:46:25.799369Z",
     "iopub.status.idle": "2025-04-18T15:46:47.217048Z",
     "shell.execute_reply": "2025-04-18T15:46:47.216443Z",
     "shell.execute_reply.started": "2025-04-18T15:46:25.799831Z"
    }
   },
   "outputs": [
    {
     "name": "stderr",
     "output_type": "stream",
     "text": [
      "2025-04-18 15:46:30.248357: E external/local_xla/xla/stream_executor/cuda/cuda_fft.cc:477] Unable to register cuFFT factory: Attempting to register factory for plugin cuFFT when one has already been registered\n",
      "WARNING: All log messages before absl::InitializeLog() is called are written to STDERR\n",
      "E0000 00:00:1744991190.449352      31 cuda_dnn.cc:8310] Unable to register cuDNN factory: Attempting to register factory for plugin cuDNN when one has already been registered\n",
      "E0000 00:00:1744991190.503758      31 cuda_blas.cc:1418] Unable to register cuBLAS factory: Attempting to register factory for plugin cuBLAS when one has already been registered\n"
     ]
    }
   ],
   "source": [
    "# M5 Forecasting - Seq2Seq GRU using Transposed Sales Matrix\n",
    "\n",
    "import numpy as np\n",
    "import pandas as pd\n",
    "from sklearn.preprocessing import MinMaxScaler\n",
    "from keras.models import Model\n",
    "from keras.layers import Input, GRU, Dense, RepeatVector, TimeDistributed\n",
    "import time\n",
    "\n",
    "# --- CONFIGURATION --- #\n",
    "data_path = \"/kaggle/input/m5-forecasting-accuracy/\"\n",
    "time_steps = 14\n",
    "forecast_steps = 28\n",
    "start_day = 350\n",
    "\n",
    "# --- LOAD AND TRANSPOSE SALES DATA --- #\n",
    "df = pd.read_csv(data_path + \"sales_train_evaluation.csv\")\n",
    "d_cols = [col for col in df.columns if col.startswith('d_')]\n",
    "df = df[['id'] + d_cols[start_day:]]\n",
    "df = df.set_index('id').T  # days as rows, items as columns\n",
    "\n",
    "# --- DROP METADATA ROWS IF PRESENT --- #\n",
    "df = df.astype(np.float32)\n",
    "\n",
    "# --- NORMALIZE --- #\n",
    "scaler = MinMaxScaler()\n",
    "df_scaled = scaler.fit_transform(df)"
   ]
  },
  {
   "cell_type": "markdown",
   "metadata": {},
   "source": [
    "## Data Preparation"
   ]
  },
  {
   "cell_type": "code",
   "execution_count": 2,
   "metadata": {
    "execution": {
     "iopub.execute_input": "2025-04-18T15:46:52.974972Z",
     "iopub.status.busy": "2025-04-18T15:46:52.974631Z",
     "iopub.status.idle": "2025-04-18T15:46:57.241363Z",
     "shell.execute_reply": "2025-04-18T15:46:57.240508Z",
     "shell.execute_reply.started": "2025-04-18T15:46:52.974950Z"
    }
   },
   "outputs": [
    {
     "name": "stderr",
     "output_type": "stream",
     "text": [
      "I0000 00:00:1744991215.936387      31 gpu_device.cc:2022] Created device /job:localhost/replica:0/task:0/device:GPU:0 with 15513 MB memory:  -> device: 0, name: Tesla P100-PCIE-16GB, pci bus id: 0000:00:04.0, compute capability: 6.0\n"
     ]
    },
    {
     "data": {
      "text/html": [
       "<pre style=\"white-space:pre;overflow-x:auto;line-height:normal;font-family:Menlo,'DejaVu Sans Mono',consolas,'Courier New',monospace\"><span style=\"font-weight: bold\">Model: \"functional\"</span>\n",
       "</pre>\n"
      ],
      "text/plain": [
       "\u001b[1mModel: \"functional\"\u001b[0m\n"
      ]
     },
     "metadata": {},
     "output_type": "display_data"
    },
    {
     "data": {
      "text/html": [
       "<pre style=\"white-space:pre;overflow-x:auto;line-height:normal;font-family:Menlo,'DejaVu Sans Mono',consolas,'Courier New',monospace\">┏━━━━━━━━━━━━━━━━━━━━━━━━━━━━━━━━━━━━━━┳━━━━━━━━━━━━━━━━━━━━━━━━━━━━━┳━━━━━━━━━━━━━━━━━┓\n",
       "┃<span style=\"font-weight: bold\"> Layer (type)                         </span>┃<span style=\"font-weight: bold\"> Output Shape                </span>┃<span style=\"font-weight: bold\">         Param # </span>┃\n",
       "┡━━━━━━━━━━━━━━━━━━━━━━━━━━━━━━━━━━━━━━╇━━━━━━━━━━━━━━━━━━━━━━━━━━━━━╇━━━━━━━━━━━━━━━━━┩\n",
       "│ input_layer (<span style=\"color: #0087ff; text-decoration-color: #0087ff\">InputLayer</span>)             │ (<span style=\"color: #00d7ff; text-decoration-color: #00d7ff\">None</span>, <span style=\"color: #00af00; text-decoration-color: #00af00\">14</span>, <span style=\"color: #00af00; text-decoration-color: #00af00\">30490</span>)           │               <span style=\"color: #00af00; text-decoration-color: #00af00\">0</span> │\n",
       "├──────────────────────────────────────┼─────────────────────────────┼─────────────────┤\n",
       "│ gru (<span style=\"color: #0087ff; text-decoration-color: #0087ff\">GRU</span>)                            │ (<span style=\"color: #00d7ff; text-decoration-color: #00d7ff\">None</span>, <span style=\"color: #00af00; text-decoration-color: #00af00\">64</span>)                  │       <span style=\"color: #00af00; text-decoration-color: #00af00\">5,866,752</span> │\n",
       "├──────────────────────────────────────┼─────────────────────────────┼─────────────────┤\n",
       "│ repeat_vector (<span style=\"color: #0087ff; text-decoration-color: #0087ff\">RepeatVector</span>)         │ (<span style=\"color: #00d7ff; text-decoration-color: #00d7ff\">None</span>, <span style=\"color: #00af00; text-decoration-color: #00af00\">28</span>, <span style=\"color: #00af00; text-decoration-color: #00af00\">64</span>)              │               <span style=\"color: #00af00; text-decoration-color: #00af00\">0</span> │\n",
       "├──────────────────────────────────────┼─────────────────────────────┼─────────────────┤\n",
       "│ gru_1 (<span style=\"color: #0087ff; text-decoration-color: #0087ff\">GRU</span>)                          │ (<span style=\"color: #00d7ff; text-decoration-color: #00d7ff\">None</span>, <span style=\"color: #00af00; text-decoration-color: #00af00\">28</span>, <span style=\"color: #00af00; text-decoration-color: #00af00\">64</span>)              │          <span style=\"color: #00af00; text-decoration-color: #00af00\">24,960</span> │\n",
       "├──────────────────────────────────────┼─────────────────────────────┼─────────────────┤\n",
       "│ time_distributed (<span style=\"color: #0087ff; text-decoration-color: #0087ff\">TimeDistributed</span>)   │ (<span style=\"color: #00d7ff; text-decoration-color: #00d7ff\">None</span>, <span style=\"color: #00af00; text-decoration-color: #00af00\">28</span>, <span style=\"color: #00af00; text-decoration-color: #00af00\">30490</span>)           │       <span style=\"color: #00af00; text-decoration-color: #00af00\">1,981,850</span> │\n",
       "└──────────────────────────────────────┴─────────────────────────────┴─────────────────┘\n",
       "</pre>\n"
      ],
      "text/plain": [
       "┏━━━━━━━━━━━━━━━━━━━━━━━━━━━━━━━━━━━━━━┳━━━━━━━━━━━━━━━━━━━━━━━━━━━━━┳━━━━━━━━━━━━━━━━━┓\n",
       "┃\u001b[1m \u001b[0m\u001b[1mLayer (type)                        \u001b[0m\u001b[1m \u001b[0m┃\u001b[1m \u001b[0m\u001b[1mOutput Shape               \u001b[0m\u001b[1m \u001b[0m┃\u001b[1m \u001b[0m\u001b[1m        Param #\u001b[0m\u001b[1m \u001b[0m┃\n",
       "┡━━━━━━━━━━━━━━━━━━━━━━━━━━━━━━━━━━━━━━╇━━━━━━━━━━━━━━━━━━━━━━━━━━━━━╇━━━━━━━━━━━━━━━━━┩\n",
       "│ input_layer (\u001b[38;5;33mInputLayer\u001b[0m)             │ (\u001b[38;5;45mNone\u001b[0m, \u001b[38;5;34m14\u001b[0m, \u001b[38;5;34m30490\u001b[0m)           │               \u001b[38;5;34m0\u001b[0m │\n",
       "├──────────────────────────────────────┼─────────────────────────────┼─────────────────┤\n",
       "│ gru (\u001b[38;5;33mGRU\u001b[0m)                            │ (\u001b[38;5;45mNone\u001b[0m, \u001b[38;5;34m64\u001b[0m)                  │       \u001b[38;5;34m5,866,752\u001b[0m │\n",
       "├──────────────────────────────────────┼─────────────────────────────┼─────────────────┤\n",
       "│ repeat_vector (\u001b[38;5;33mRepeatVector\u001b[0m)         │ (\u001b[38;5;45mNone\u001b[0m, \u001b[38;5;34m28\u001b[0m, \u001b[38;5;34m64\u001b[0m)              │               \u001b[38;5;34m0\u001b[0m │\n",
       "├──────────────────────────────────────┼─────────────────────────────┼─────────────────┤\n",
       "│ gru_1 (\u001b[38;5;33mGRU\u001b[0m)                          │ (\u001b[38;5;45mNone\u001b[0m, \u001b[38;5;34m28\u001b[0m, \u001b[38;5;34m64\u001b[0m)              │          \u001b[38;5;34m24,960\u001b[0m │\n",
       "├──────────────────────────────────────┼─────────────────────────────┼─────────────────┤\n",
       "│ time_distributed (\u001b[38;5;33mTimeDistributed\u001b[0m)   │ (\u001b[38;5;45mNone\u001b[0m, \u001b[38;5;34m28\u001b[0m, \u001b[38;5;34m30490\u001b[0m)           │       \u001b[38;5;34m1,981,850\u001b[0m │\n",
       "└──────────────────────────────────────┴─────────────────────────────┴─────────────────┘\n"
      ]
     },
     "metadata": {},
     "output_type": "display_data"
    },
    {
     "data": {
      "text/html": [
       "<pre style=\"white-space:pre;overflow-x:auto;line-height:normal;font-family:Menlo,'DejaVu Sans Mono',consolas,'Courier New',monospace\"><span style=\"font-weight: bold\"> Total params: </span><span style=\"color: #00af00; text-decoration-color: #00af00\">7,873,562</span> (30.04 MB)\n",
       "</pre>\n"
      ],
      "text/plain": [
       "\u001b[1m Total params: \u001b[0m\u001b[38;5;34m7,873,562\u001b[0m (30.04 MB)\n"
      ]
     },
     "metadata": {},
     "output_type": "display_data"
    },
    {
     "data": {
      "text/html": [
       "<pre style=\"white-space:pre;overflow-x:auto;line-height:normal;font-family:Menlo,'DejaVu Sans Mono',consolas,'Courier New',monospace\"><span style=\"font-weight: bold\"> Trainable params: </span><span style=\"color: #00af00; text-decoration-color: #00af00\">7,873,562</span> (30.04 MB)\n",
       "</pre>\n"
      ],
      "text/plain": [
       "\u001b[1m Trainable params: \u001b[0m\u001b[38;5;34m7,873,562\u001b[0m (30.04 MB)\n"
      ]
     },
     "metadata": {},
     "output_type": "display_data"
    },
    {
     "data": {
      "text/html": [
       "<pre style=\"white-space:pre;overflow-x:auto;line-height:normal;font-family:Menlo,'DejaVu Sans Mono',consolas,'Courier New',monospace\"><span style=\"font-weight: bold\"> Non-trainable params: </span><span style=\"color: #00af00; text-decoration-color: #00af00\">0</span> (0.00 B)\n",
       "</pre>\n"
      ],
      "text/plain": [
       "\u001b[1m Non-trainable params: \u001b[0m\u001b[38;5;34m0\u001b[0m (0.00 B)\n"
      ]
     },
     "metadata": {},
     "output_type": "display_data"
    }
   ],
   "source": [
    "# --- PREPARE SEQ2SEQ DATA (INPUT/OUTPUT PAIRS) --- #\n",
    "X, y = [], []\n",
    "for i in range(time_steps, len(df_scaled) - forecast_steps):\n",
    "    X.append(df_scaled[i - time_steps:i])\n",
    "    y.append(df_scaled[i:i + forecast_steps])\n",
    "X = np.array(X, dtype=np.float32)\n",
    "y = np.array(y, dtype=np.float32)\n",
    "\n",
    "# --- DEFINE SIMPLE GRU SEQ2SEQ MODEL --- #\n",
    "input_dim = X.shape[2]\n",
    "output_dim = y.shape[2]\n",
    "\n",
    "encoder_input = Input(shape=(time_steps, input_dim))\n",
    "encoder = GRU(64, return_sequences=False)(encoder_input)\n",
    "encoder_repeat = RepeatVector(forecast_steps)(encoder)\n",
    "\n",
    "decoder = GRU(64, return_sequences=True)(encoder_repeat)\n",
    "decoder_output = TimeDistributed(Dense(output_dim))(decoder)\n",
    "\n",
    "model = Model(encoder_input, decoder_output)\n",
    "model.compile(optimizer='adam', loss='mse')\n",
    "model.summary()"
   ]
  },
  {
   "cell_type": "markdown",
   "metadata": {},
   "source": [
    "## Model Training"
   ]
  },
  {
   "cell_type": "code",
   "execution_count": 3,
   "metadata": {
    "execution": {
     "iopub.execute_input": "2025-04-18T15:47:33.829128Z",
     "iopub.status.busy": "2025-04-18T15:47:33.828849Z",
     "iopub.status.idle": "2025-04-18T15:48:38.691339Z",
     "shell.execute_reply": "2025-04-18T15:48:38.690753Z",
     "shell.execute_reply.started": "2025-04-18T15:47:33.829105Z"
    }
   },
   "outputs": [
    {
     "name": "stdout",
     "output_type": "stream",
     "text": [
      "Epoch 1/10\n"
     ]
    },
    {
     "name": "stderr",
     "output_type": "stream",
     "text": [
      "I0000 00:00:1744991277.614861      93 cuda_dnn.cc:529] Loaded cuDNN version 90300\n"
     ]
    },
    {
     "name": "stdout",
     "output_type": "stream",
     "text": [
      "\u001b[1m49/49\u001b[0m \u001b[32m━━━━━━━━━━━━━━━━━━━━\u001b[0m\u001b[37m\u001b[0m \u001b[1m9s\u001b[0m 74ms/step - loss: 0.0193\n",
      "Epoch 2/10\n",
      "\u001b[1m49/49\u001b[0m \u001b[32m━━━━━━━━━━━━━━━━━━━━\u001b[0m\u001b[37m\u001b[0m \u001b[1m4s\u001b[0m 76ms/step - loss: 0.0150\n",
      "Epoch 3/10\n",
      "\u001b[1m49/49\u001b[0m \u001b[32m━━━━━━━━━━━━━━━━━━━━\u001b[0m\u001b[37m\u001b[0m \u001b[1m4s\u001b[0m 75ms/step - loss: 0.0144\n",
      "Epoch 4/10\n",
      "\u001b[1m49/49\u001b[0m \u001b[32m━━━━━━━━━━━━━━━━━━━━\u001b[0m\u001b[37m\u001b[0m \u001b[1m4s\u001b[0m 75ms/step - loss: 0.0141\n",
      "Epoch 5/10\n",
      "\u001b[1m49/49\u001b[0m \u001b[32m━━━━━━━━━━━━━━━━━━━━\u001b[0m\u001b[37m\u001b[0m \u001b[1m4s\u001b[0m 83ms/step - loss: 0.0138\n",
      "Epoch 6/10\n",
      "\u001b[1m49/49\u001b[0m \u001b[32m━━━━━━━━━━━━━━━━━━━━\u001b[0m\u001b[37m\u001b[0m \u001b[1m4s\u001b[0m 74ms/step - loss: 0.0137\n",
      "Epoch 7/10\n",
      "\u001b[1m49/49\u001b[0m \u001b[32m━━━━━━━━━━━━━━━━━━━━\u001b[0m\u001b[37m\u001b[0m \u001b[1m4s\u001b[0m 78ms/step - loss: 0.0135\n",
      "Epoch 8/10\n",
      "\u001b[1m49/49\u001b[0m \u001b[32m━━━━━━━━━━━━━━━━━━━━\u001b[0m\u001b[37m\u001b[0m \u001b[1m4s\u001b[0m 77ms/step - loss: 0.0134\n",
      "Epoch 9/10\n",
      "\u001b[1m49/49\u001b[0m \u001b[32m━━━━━━━━━━━━━━━━━━━━\u001b[0m\u001b[37m\u001b[0m \u001b[1m4s\u001b[0m 78ms/step - loss: 0.0135\n",
      "Epoch 10/10\n",
      "\u001b[1m49/49\u001b[0m \u001b[32m━━━━━━━━━━━━━━━━━━━━\u001b[0m\u001b[37m\u001b[0m \u001b[1m4s\u001b[0m 76ms/step - loss: 0.0134\n",
      "\u001b[1m1/1\u001b[0m \u001b[32m━━━━━━━━━━━━━━━━━━━━\u001b[0m\u001b[37m\u001b[0m \u001b[1m0s\u001b[0m 460ms/step\n"
     ]
    }
   ],
   "source": [
    "# --- TRAIN MODEL --- #\n",
    "model.fit(X, y, epochs=10, batch_size=32, verbose=1)\n",
    "\n",
    "# --- FORECAST --- #\n",
    "latest = df_scaled[-time_steps:].reshape(1, time_steps, input_dim)\n",
    "pred_scaled = model.predict(latest).reshape(forecast_steps, input_dim)\n",
    "pred_inverse = scaler.inverse_transform(pred_scaled)"
   ]
  },
  {
   "cell_type": "markdown",
   "metadata": {},
   "source": [
    "## Submission"
   ]
  },
  {
   "cell_type": "code",
   "execution_count": 4,
   "metadata": {
    "execution": {
     "iopub.execute_input": "2025-04-18T15:48:52.197101Z",
     "iopub.status.busy": "2025-04-18T15:48:52.196317Z",
     "iopub.status.idle": "2025-04-18T15:48:53.979790Z",
     "shell.execute_reply": "2025-04-18T15:48:53.979019Z",
     "shell.execute_reply.started": "2025-04-18T15:48:52.197073Z"
    }
   },
   "outputs": [
    {
     "name": "stdout",
     "output_type": "stream",
     "text": [
      "Simple Seq2Seq submission saved as simple_seq2seq_submission_1744991332.csv\n"
     ]
    }
   ],
   "source": [
    "# --- SUBMISSION --- #\n",
    "sample_sub = pd.read_csv(data_path + \"sample_submission.csv\")\n",
    "ids = sample_sub['id'].values[:30490]\n",
    "submission = pd.DataFrame(pred_inverse.T, columns=[f\"F{i+1}\" for i in range(forecast_steps)])\n",
    "submission.insert(0, 'id', ids)\n",
    "submission = pd.concat([submission, submission], ignore_index=True)\n",
    "submission['id'] = sample_sub['id']\n",
    "submission = submission[['id'] + [f\"F{i+1}\" for i in range(forecast_steps)]]\n",
    "\n",
    "filename = f\"seq2seq_submission_{int(time.time())}.csv\"\n",
    "submission.to_csv(filename, index=False)\n",
    "print(f\"Seq2Seq submission saved as {filename}\")"
   ]
  }
 ],
 "metadata": {
  "kaggle": {
   "accelerator": "gpu",
   "dataSources": [
    {
     "databundleVersionId": 1236839,
     "sourceId": 18599,
     "sourceType": "competition"
    }
   ],
   "dockerImageVersionId": 31011,
   "isGpuEnabled": true,
   "isInternetEnabled": true,
   "language": "python",
   "sourceType": "notebook"
  },
  "kernelspec": {
   "display_name": "Python (mymeditruth)",
   "language": "python",
   "name": "mymeditruth"
  },
  "language_info": {
   "codemirror_mode": {
    "name": "ipython",
    "version": 3
   },
   "file_extension": ".py",
   "mimetype": "text/x-python",
   "name": "python",
   "nbconvert_exporter": "python",
   "pygments_lexer": "ipython3",
   "version": "3.10.16"
  }
 },
 "nbformat": 4,
 "nbformat_minor": 4
}
