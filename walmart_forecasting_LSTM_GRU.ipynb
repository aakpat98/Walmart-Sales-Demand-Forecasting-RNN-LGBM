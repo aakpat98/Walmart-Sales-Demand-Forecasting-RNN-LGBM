{
 "cells": [
  {
   "cell_type": "markdown",
   "metadata": {},
   "source": [
    "# Walmart M5 Forecasting Solution — Approach 2 & Results\n",
    "\n",
    "## 1. Objective\n",
    "To evaluate deep learning models (LSTM, GRU) for multi-series daily sales forecasting in the M5 competition. The models were tested for different history window lengths and start days to identify robust configurations.\n",
    "\n",
    "---\n",
    "\n",
    "## 2. Data Loading & Preprocessing\n",
    "\n",
    "- Source files:\n",
    "  - `sales_train_evaluation.csv`\n",
    "  - `calendar.csv`\n",
    "\n",
    "- Steps:\n",
    "  - Extracted sales data starting from multiple offsets: `d_1`, `d_151`, `d_366`\n",
    "  - Transposed into time-series format (`id` as columns, `d_xx` as rows)\n",
    "  - Created binary `event_tomorrow` feature from `event_name_1`\n",
    "\n",
    "---\n",
    "\n",
    "## 3. Feature Engineering\n",
    "\n",
    "- Historical sales normalized using `MinMaxScaler`\n",
    "- Combined with binary event indicator\n",
    "- Built sequences of time steps (7 or 14) as input\n",
    "- Target: next-day sales for all items\n",
    "\n",
    "---\n",
    "\n",
    "## 4. Model Architectures\n",
    "\n",
    "Each model consists of two recurrent layers followed by dropout and a dense output layer:\n",
    "\n",
    "| Layer Type | Units | Notes                       |\n",
    "|------------|-------|-----------------------------|\n",
    "| LSTM / GRU | 64    | With `return_sequences=True`|\n",
    "| Dropout    | 0.2   | Applied after each RNN layer|\n",
    "| Dense      | N     | Outputs forecast per item   |\n",
    "\n",
    "- Loss: Mean Squared Error (MSE)\n",
    "- Optimizer: Adam\n",
    "\n",
    "---\n",
    "\n",
    "## 5. Experiment Setup\n",
    "\n",
    "- Model Types: LSTM, GRU\n",
    "- Start Days: 0, 150, 365\n",
    "- Time Steps: 7, 14\n",
    "- Forecast Horizon: Next-day only\n",
    "- All experiments used the same architecture, loss, and optimizer for consistency\n",
    "\n",
    "---\n",
    "\n",
    "## 6. Kaggle Submission Scores\n",
    "\n",
    "| Model | Private RMSE | Public RMSE |\n",
    "|-------|-------------|--------------|\n",
    "| GRU   | 0.78671     | 0.88169      |\n",
    "| LSTM  | 0.98608     | 1.07681      |\n",
    "\n",
    "**Conclusion:** GRU outperformed LSTM on both public and private leaderboards, showing better generalization and training efficiency for this task.\n"
   ]
  },
  {
   "cell_type": "markdown",
   "metadata": {},
   "source": [
    "## Import Libraries"
   ]
  },
  {
   "cell_type": "code",
   "execution_count": 3,
   "metadata": {
    "_cell_guid": "b1076dfc-b9ad-4769-8c92-a6c4dae69d19",
    "_uuid": "8f2839f25d086af736a60e9eeb907d3b93b6e0e5",
    "execution": {
     "iopub.execute_input": "2025-04-15T17:43:56.108631Z",
     "iopub.status.busy": "2025-04-15T17:43:56.107931Z",
     "iopub.status.idle": "2025-04-15T17:43:56.113060Z",
     "shell.execute_reply": "2025-04-15T17:43:56.112401Z",
     "shell.execute_reply.started": "2025-04-15T17:43:56.108603Z"
    }
   },
   "outputs": [],
   "source": [
    "# M5 Forecasting - Deep Learning Model Exploration & Comparison (RNN, LSTM, GRU)\n",
    "\n",
    "import numpy as np\n",
    "import pandas as pd\n",
    "import matplotlib.pyplot as plt\n",
    "from sklearn.preprocessing import MinMaxScaler\n",
    "from keras.models import Sequential\n",
    "from keras.layers import Dense, LSTM, GRU, SimpleRNN, Dropout\n",
    "import time\n",
    "\n",
    "# --- 1. CONFIGURATION FOR EXPERIMENTATION --- #\n",
    "data_path = \"/kaggle/input/m5-forecasting-accuracy/\"\n",
    "models_to_test = ['LSTM', 'GRU']\n",
    "time_steps_options = [7, 14]  # Experiment with different history windows\n",
    "start_day_options = [0, 150, 365]  # Test from different start points\n",
    "forecast_days = 28\n",
    "\n"
   ]
  },
  {
   "cell_type": "markdown",
   "metadata": {},
   "source": [
    "## UDF Definitions"
   ]
  },
  {
   "cell_type": "code",
   "execution_count": 4,
   "metadata": {
    "execution": {
     "iopub.execute_input": "2025-04-15T17:43:57.972028Z",
     "iopub.status.busy": "2025-04-15T17:43:57.971247Z",
     "iopub.status.idle": "2025-04-15T17:43:57.977524Z",
     "shell.execute_reply": "2025-04-15T17:43:57.976661Z",
     "shell.execute_reply.started": "2025-04-15T17:43:57.972000Z"
    }
   },
   "outputs": [],
   "source": [
    "# --- 2. LOAD DATA --- #\n",
    "def load_sales_data(start_day):\n",
    "    sales = pd.read_csv(data_path + \"sales_train_evaluation.csv\")\n",
    "    d_cols = [col for col in sales.columns if col.startswith('d_')]\n",
    "    sales = sales[['id'] + d_cols[start_day:]]\n",
    "    return sales.set_index('id').T.reset_index(drop=True)\n",
    "\n",
    "# --- 3. CREATE EVENT FEATURE --- #\n",
    "def create_event_feature(start_day, total_days):\n",
    "    calendar = pd.read_csv(data_path + \"calendar.csv\")\n",
    "    event_flag = np.zeros((calendar.shape[0], 1))\n",
    "    event_flag[np.where(calendar['event_name_1'].notna())[0] - 1] = 1\n",
    "    df_flag = pd.DataFrame(event_flag, columns=['event_tomorrow'])\n",
    "    return df_flag[start_day:start_day + total_days].reset_index(drop=True)\n",
    "\n"
   ]
  },
  {
   "cell_type": "markdown",
   "metadata": {},
   "source": [
    "## Build Sequence Dataset"
   ]
  },
  {
   "cell_type": "code",
   "execution_count": 5,
   "metadata": {
    "execution": {
     "iopub.execute_input": "2025-04-15T17:44:01.536091Z",
     "iopub.status.busy": "2025-04-15T17:44:01.535782Z",
     "iopub.status.idle": "2025-04-15T17:44:01.543505Z",
     "shell.execute_reply": "2025-04-15T17:44:01.542744Z",
     "shell.execute_reply.started": "2025-04-15T17:44:01.536068Z"
    }
   },
   "outputs": [],
   "source": [
    "# --- 4. BUILD SEQUENCE DATASET --- #\n",
    "def prepare_sequences(sales_df, event_df, time_steps):\n",
    "    scaler = MinMaxScaler()\n",
    "    merged = pd.concat([sales_df, event_df], axis=1)\n",
    "    scaled = scaler.fit_transform(merged)\n",
    "    X, y = [], []\n",
    "    for i in range(time_steps, len(scaled)):\n",
    "        X.append(scaled[i - time_steps:i])\n",
    "        y.append(scaled[i][:sales_df.shape[1]])\n",
    "    return np.array(X), np.array(y), scaler\n",
    "\n",
    "# --- 5. DEFINE MODEL --- #\n",
    "def build_model(model_type, input_shape, output_size):\n",
    "    model = Sequential()\n",
    "    if model_type == 'RNN':\n",
    "        model.add(SimpleRNN(64, return_sequences=True, input_shape=input_shape))\n",
    "        model.add(Dropout(0.2))\n",
    "        model.add(SimpleRNN(64))\n",
    "    elif model_type == 'GRU':\n",
    "        model.add(GRU(64, return_sequences=True, input_shape=input_shape))\n",
    "        model.add(Dropout(0.2))\n",
    "        model.add(GRU(64))\n",
    "    elif model_type == 'LSTM':\n",
    "        model.add(LSTM(64, return_sequences=True, input_shape=input_shape))\n",
    "        model.add(Dropout(0.2))\n",
    "        model.add(LSTM(64))\n",
    "    model.add(Dropout(0.2))\n",
    "    model.add(Dense(output_size))\n",
    "    model.compile(optimizer='adam', loss='mean_squared_error')\n",
    "    return model\n",
    "\n"
   ]
  },
  {
   "cell_type": "markdown",
   "metadata": {},
   "source": [
    "## Experiment Loop"
   ]
  },
  {
   "cell_type": "code",
   "execution_count": 6,
   "metadata": {
    "execution": {
     "iopub.execute_input": "2025-04-15T17:44:03.734085Z",
     "iopub.status.busy": "2025-04-15T17:44:03.733803Z",
     "iopub.status.idle": "2025-04-15T17:48:14.663457Z",
     "shell.execute_reply": "2025-04-15T17:48:14.662747Z",
     "shell.execute_reply.started": "2025-04-15T17:44:03.734067Z"
    },
    "scrolled": true
   },
   "outputs": [
    {
     "name": "stdout",
     "output_type": "stream",
     "text": [
      "\n",
      "Training LSTM | Start Day: 0, Time Steps: 7\n"
     ]
    },
    {
     "name": "stderr",
     "output_type": "stream",
     "text": [
      "I0000 00:00:1744739055.540377     608 gpu_device.cc:2022] Created device /job:localhost/replica:0/task:0/device:GPU:0 with 15513 MB memory:  -> device: 0, name: Tesla P100-PCIE-16GB, pci bus id: 0000:00:04.0, compute capability: 6.0\n",
      "/usr/local/lib/python3.11/dist-packages/keras/src/layers/rnn/rnn.py:204: UserWarning: Do not pass an `input_shape`/`input_dim` argument to a layer. When using Sequential models, prefer using an `Input(shape)` object as the first layer in the model instead.\n",
      "  super().__init__(**kwargs)\n"
     ]
    },
    {
     "name": "stdout",
     "output_type": "stream",
     "text": [
      "Epoch 1/5\n"
     ]
    },
    {
     "name": "stderr",
     "output_type": "stream",
     "text": [
      "I0000 00:00:1744739065.547489     642 cuda_dnn.cc:529] Loaded cuDNN version 90300\n"
     ]
    },
    {
     "name": "stdout",
     "output_type": "stream",
     "text": [
      "\u001b[1m61/61\u001b[0m \u001b[32m━━━━━━━━━━━━━━━━━━━━\u001b[0m\u001b[37m\u001b[0m \u001b[1m6s\u001b[0m 20ms/step - loss: 0.0175\n",
      "Epoch 2/5\n",
      "\u001b[1m61/61\u001b[0m \u001b[32m━━━━━━━━━━━━━━━━━━━━\u001b[0m\u001b[37m\u001b[0m \u001b[1m1s\u001b[0m 19ms/step - loss: 0.0139\n",
      "Epoch 3/5\n",
      "\u001b[1m61/61\u001b[0m \u001b[32m━━━━━━━━━━━━━━━━━━━━\u001b[0m\u001b[37m\u001b[0m \u001b[1m1s\u001b[0m 18ms/step - loss: 0.0132\n",
      "Epoch 4/5\n",
      "\u001b[1m61/61\u001b[0m \u001b[32m━━━━━━━━━━━━━━━━━━━━\u001b[0m\u001b[37m\u001b[0m \u001b[1m1s\u001b[0m 19ms/step - loss: 0.0131\n",
      "Epoch 5/5\n",
      "\u001b[1m61/61\u001b[0m \u001b[32m━━━━━━━━━━━━━━━━━━━━\u001b[0m\u001b[37m\u001b[0m \u001b[1m1s\u001b[0m 19ms/step - loss: 0.0129\n",
      "\n",
      "Training GRU | Start Day: 0, Time Steps: 7\n",
      "Epoch 1/5\n",
      "\u001b[1m61/61\u001b[0m \u001b[32m━━━━━━━━━━━━━━━━━━━━\u001b[0m\u001b[37m\u001b[0m \u001b[1m4s\u001b[0m 18ms/step - loss: 0.0175\n",
      "Epoch 2/5\n",
      "\u001b[1m61/61\u001b[0m \u001b[32m━━━━━━━━━━━━━━━━━━━━\u001b[0m\u001b[37m\u001b[0m \u001b[1m1s\u001b[0m 18ms/step - loss: 0.0136\n",
      "Epoch 3/5\n",
      "\u001b[1m61/61\u001b[0m \u001b[32m━━━━━━━━━━━━━━━━━━━━\u001b[0m\u001b[37m\u001b[0m \u001b[1m1s\u001b[0m 18ms/step - loss: 0.0133\n",
      "Epoch 4/5\n",
      "\u001b[1m61/61\u001b[0m \u001b[32m━━━━━━━━━━━━━━━━━━━━\u001b[0m\u001b[37m\u001b[0m \u001b[1m1s\u001b[0m 18ms/step - loss: 0.0129\n",
      "Epoch 5/5\n",
      "\u001b[1m61/61\u001b[0m \u001b[32m━━━━━━━━━━━━━━━━━━━━\u001b[0m\u001b[37m\u001b[0m \u001b[1m1s\u001b[0m 17ms/step - loss: 0.0125\n",
      "\n",
      "Training LSTM | Start Day: 0, Time Steps: 14\n"
     ]
    },
    {
     "name": "stderr",
     "output_type": "stream",
     "text": [
      "/usr/local/lib/python3.11/dist-packages/keras/src/layers/rnn/rnn.py:204: UserWarning: Do not pass an `input_shape`/`input_dim` argument to a layer. When using Sequential models, prefer using an `Input(shape)` object as the first layer in the model instead.\n",
      "  super().__init__(**kwargs)\n"
     ]
    },
    {
     "name": "stdout",
     "output_type": "stream",
     "text": [
      "Epoch 1/5\n",
      "\u001b[1m61/61\u001b[0m \u001b[32m━━━━━━━━━━━━━━━━━━━━\u001b[0m\u001b[37m\u001b[0m \u001b[1m5s\u001b[0m 31ms/step - loss: 0.0175\n",
      "Epoch 2/5\n",
      "\u001b[1m61/61\u001b[0m \u001b[32m━━━━━━━━━━━━━━━━━━━━\u001b[0m\u001b[37m\u001b[0m \u001b[1m2s\u001b[0m 32ms/step - loss: 0.0141\n",
      "Epoch 3/5\n",
      "\u001b[1m61/61\u001b[0m \u001b[32m━━━━━━━━━━━━━━━━━━━━\u001b[0m\u001b[37m\u001b[0m \u001b[1m2s\u001b[0m 32ms/step - loss: 0.0134\n",
      "Epoch 4/5\n",
      "\u001b[1m61/61\u001b[0m \u001b[32m━━━━━━━━━━━━━━━━━━━━\u001b[0m\u001b[37m\u001b[0m \u001b[1m2s\u001b[0m 32ms/step - loss: 0.0132\n",
      "Epoch 5/5\n",
      "\u001b[1m61/61\u001b[0m \u001b[32m━━━━━━━━━━━━━━━━━━━━\u001b[0m\u001b[37m\u001b[0m \u001b[1m2s\u001b[0m 32ms/step - loss: 0.0128\n",
      "\n",
      "Training GRU | Start Day: 0, Time Steps: 14\n",
      "Epoch 1/5\n",
      "\u001b[1m61/61\u001b[0m \u001b[32m━━━━━━━━━━━━━━━━━━━━\u001b[0m\u001b[37m\u001b[0m \u001b[1m5s\u001b[0m 30ms/step - loss: 0.0171\n",
      "Epoch 2/5\n",
      "\u001b[1m61/61\u001b[0m \u001b[32m━━━━━━━━━━━━━━━━━━━━\u001b[0m\u001b[37m\u001b[0m \u001b[1m2s\u001b[0m 31ms/step - loss: 0.0134\n",
      "Epoch 3/5\n",
      "\u001b[1m61/61\u001b[0m \u001b[32m━━━━━━━━━━━━━━━━━━━━\u001b[0m\u001b[37m\u001b[0m \u001b[1m2s\u001b[0m 31ms/step - loss: 0.0130\n",
      "Epoch 4/5\n",
      "\u001b[1m61/61\u001b[0m \u001b[32m━━━━━━━━━━━━━━━━━━━━\u001b[0m\u001b[37m\u001b[0m \u001b[1m2s\u001b[0m 30ms/step - loss: 0.0128\n",
      "Epoch 5/5\n",
      "\u001b[1m61/61\u001b[0m \u001b[32m━━━━━━━━━━━━━━━━━━━━\u001b[0m\u001b[37m\u001b[0m \u001b[1m2s\u001b[0m 31ms/step - loss: 0.0127\n",
      "\n",
      "Training LSTM | Start Day: 150, Time Steps: 7\n"
     ]
    },
    {
     "name": "stderr",
     "output_type": "stream",
     "text": [
      "/usr/local/lib/python3.11/dist-packages/keras/src/layers/rnn/rnn.py:204: UserWarning: Do not pass an `input_shape`/`input_dim` argument to a layer. When using Sequential models, prefer using an `Input(shape)` object as the first layer in the model instead.\n",
      "  super().__init__(**kwargs)\n"
     ]
    },
    {
     "name": "stdout",
     "output_type": "stream",
     "text": [
      "Epoch 1/5\n",
      "\u001b[1m56/56\u001b[0m \u001b[32m━━━━━━━━━━━━━━━━━━━━\u001b[0m\u001b[37m\u001b[0m \u001b[1m4s\u001b[0m 19ms/step - loss: 0.0184\n",
      "Epoch 2/5\n",
      "\u001b[1m56/56\u001b[0m \u001b[32m━━━━━━━━━━━━━━━━━━━━\u001b[0m\u001b[37m\u001b[0m \u001b[1m1s\u001b[0m 18ms/step - loss: 0.0148\n",
      "Epoch 3/5\n",
      "\u001b[1m56/56\u001b[0m \u001b[32m━━━━━━━━━━━━━━━━━━━━\u001b[0m\u001b[37m\u001b[0m \u001b[1m1s\u001b[0m 19ms/step - loss: 0.0142\n",
      "Epoch 4/5\n",
      "\u001b[1m56/56\u001b[0m \u001b[32m━━━━━━━━━━━━━━━━━━━━\u001b[0m\u001b[37m\u001b[0m \u001b[1m1s\u001b[0m 19ms/step - loss: 0.0139\n",
      "Epoch 5/5\n",
      "\u001b[1m56/56\u001b[0m \u001b[32m━━━━━━━━━━━━━━━━━━━━\u001b[0m\u001b[37m\u001b[0m \u001b[1m1s\u001b[0m 19ms/step - loss: 0.0134\n",
      "\n",
      "Training GRU | Start Day: 150, Time Steps: 7\n",
      "Epoch 1/5\n",
      "\u001b[1m56/56\u001b[0m \u001b[32m━━━━━━━━━━━━━━━━━━━━\u001b[0m\u001b[37m\u001b[0m \u001b[1m4s\u001b[0m 17ms/step - loss: 0.0181\n",
      "Epoch 2/5\n",
      "\u001b[1m56/56\u001b[0m \u001b[32m━━━━━━━━━━━━━━━━━━━━\u001b[0m\u001b[37m\u001b[0m \u001b[1m1s\u001b[0m 18ms/step - loss: 0.0144\n",
      "Epoch 3/5\n",
      "\u001b[1m56/56\u001b[0m \u001b[32m━━━━━━━━━━━━━━━━━━━━\u001b[0m\u001b[37m\u001b[0m \u001b[1m1s\u001b[0m 17ms/step - loss: 0.0138\n",
      "Epoch 4/5\n",
      "\u001b[1m56/56\u001b[0m \u001b[32m━━━━━━━━━━━━━━━━━━━━\u001b[0m\u001b[37m\u001b[0m \u001b[1m1s\u001b[0m 18ms/step - loss: 0.0137\n",
      "Epoch 5/5\n",
      "\u001b[1m56/56\u001b[0m \u001b[32m━━━━━━━━━━━━━━━━━━━━\u001b[0m\u001b[37m\u001b[0m \u001b[1m1s\u001b[0m 18ms/step - loss: 0.0133\n",
      "\n",
      "Training LSTM | Start Day: 150, Time Steps: 14\n"
     ]
    },
    {
     "name": "stderr",
     "output_type": "stream",
     "text": [
      "/usr/local/lib/python3.11/dist-packages/keras/src/layers/rnn/rnn.py:204: UserWarning: Do not pass an `input_shape`/`input_dim` argument to a layer. When using Sequential models, prefer using an `Input(shape)` object as the first layer in the model instead.\n",
      "  super().__init__(**kwargs)\n"
     ]
    },
    {
     "name": "stdout",
     "output_type": "stream",
     "text": [
      "Epoch 1/5\n",
      "\u001b[1m56/56\u001b[0m \u001b[32m━━━━━━━━━━━━━━━━━━━━\u001b[0m\u001b[37m\u001b[0m \u001b[1m5s\u001b[0m 32ms/step - loss: 0.0181\n",
      "Epoch 2/5\n",
      "\u001b[1m56/56\u001b[0m \u001b[32m━━━━━━━━━━━━━━━━━━━━\u001b[0m\u001b[37m\u001b[0m \u001b[1m2s\u001b[0m 31ms/step - loss: 0.0150\n",
      "Epoch 3/5\n",
      "\u001b[1m56/56\u001b[0m \u001b[32m━━━━━━━━━━━━━━━━━━━━\u001b[0m\u001b[37m\u001b[0m \u001b[1m2s\u001b[0m 31ms/step - loss: 0.0143\n",
      "Epoch 4/5\n",
      "\u001b[1m56/56\u001b[0m \u001b[32m━━━━━━━━━━━━━━━━━━━━\u001b[0m\u001b[37m\u001b[0m \u001b[1m2s\u001b[0m 32ms/step - loss: 0.0138\n",
      "Epoch 5/5\n",
      "\u001b[1m56/56\u001b[0m \u001b[32m━━━━━━━━━━━━━━━━━━━━\u001b[0m\u001b[37m\u001b[0m \u001b[1m2s\u001b[0m 33ms/step - loss: 0.0138\n",
      "\n",
      "Training GRU | Start Day: 150, Time Steps: 14\n",
      "Epoch 1/5\n",
      "\u001b[1m56/56\u001b[0m \u001b[32m━━━━━━━━━━━━━━━━━━━━\u001b[0m\u001b[37m\u001b[0m \u001b[1m5s\u001b[0m 31ms/step - loss: 0.0180\n",
      "Epoch 2/5\n",
      "\u001b[1m56/56\u001b[0m \u001b[32m━━━━━━━━━━━━━━━━━━━━\u001b[0m\u001b[37m\u001b[0m \u001b[1m2s\u001b[0m 31ms/step - loss: 0.0143\n",
      "Epoch 3/5\n",
      "\u001b[1m56/56\u001b[0m \u001b[32m━━━━━━━━━━━━━━━━━━━━\u001b[0m\u001b[37m\u001b[0m \u001b[1m2s\u001b[0m 32ms/step - loss: 0.0139\n",
      "Epoch 4/5\n",
      "\u001b[1m56/56\u001b[0m \u001b[32m━━━━━━━━━━━━━━━━━━━━\u001b[0m\u001b[37m\u001b[0m \u001b[1m2s\u001b[0m 32ms/step - loss: 0.0135\n",
      "Epoch 5/5\n",
      "\u001b[1m56/56\u001b[0m \u001b[32m━━━━━━━━━━━━━━━━━━━━\u001b[0m\u001b[37m\u001b[0m \u001b[1m2s\u001b[0m 31ms/step - loss: 0.0132\n",
      "\n",
      "Training LSTM | Start Day: 365, Time Steps: 7\n"
     ]
    },
    {
     "name": "stderr",
     "output_type": "stream",
     "text": [
      "/usr/local/lib/python3.11/dist-packages/keras/src/layers/rnn/rnn.py:204: UserWarning: Do not pass an `input_shape`/`input_dim` argument to a layer. When using Sequential models, prefer using an `Input(shape)` object as the first layer in the model instead.\n",
      "  super().__init__(**kwargs)\n"
     ]
    },
    {
     "name": "stdout",
     "output_type": "stream",
     "text": [
      "Epoch 1/5\n",
      "\u001b[1m50/50\u001b[0m \u001b[32m━━━━━━━━━━━━━━━━━━━━\u001b[0m\u001b[37m\u001b[0m \u001b[1m4s\u001b[0m 19ms/step - loss: 0.0200\n",
      "Epoch 2/5\n",
      "\u001b[1m50/50\u001b[0m \u001b[32m━━━━━━━━━━━━━━━━━━━━\u001b[0m\u001b[37m\u001b[0m \u001b[1m1s\u001b[0m 18ms/step - loss: 0.0162\n",
      "Epoch 3/5\n",
      "\u001b[1m50/50\u001b[0m \u001b[32m━━━━━━━━━━━━━━━━━━━━\u001b[0m\u001b[37m\u001b[0m \u001b[1m1s\u001b[0m 18ms/step - loss: 0.0156\n",
      "Epoch 4/5\n",
      "\u001b[1m50/50\u001b[0m \u001b[32m━━━━━━━━━━━━━━━━━━━━\u001b[0m\u001b[37m\u001b[0m \u001b[1m1s\u001b[0m 18ms/step - loss: 0.0151\n",
      "Epoch 5/5\n",
      "\u001b[1m50/50\u001b[0m \u001b[32m━━━━━━━━━━━━━━━━━━━━\u001b[0m\u001b[37m\u001b[0m \u001b[1m1s\u001b[0m 18ms/step - loss: 0.0150\n",
      "\n",
      "Training GRU | Start Day: 365, Time Steps: 7\n",
      "Epoch 1/5\n",
      "\u001b[1m50/50\u001b[0m \u001b[32m━━━━━━━━━━━━━━━━━━━━\u001b[0m\u001b[37m\u001b[0m \u001b[1m3s\u001b[0m 18ms/step - loss: 0.0200\n",
      "Epoch 2/5\n",
      "\u001b[1m50/50\u001b[0m \u001b[32m━━━━━━━━━━━━━━━━━━━━\u001b[0m\u001b[37m\u001b[0m \u001b[1m1s\u001b[0m 17ms/step - loss: 0.0155\n",
      "Epoch 3/5\n",
      "\u001b[1m50/50\u001b[0m \u001b[32m━━━━━━━━━━━━━━━━━━━━\u001b[0m\u001b[37m\u001b[0m \u001b[1m1s\u001b[0m 17ms/step - loss: 0.0152\n",
      "Epoch 4/5\n",
      "\u001b[1m50/50\u001b[0m \u001b[32m━━━━━━━━━━━━━━━━━━━━\u001b[0m\u001b[37m\u001b[0m \u001b[1m1s\u001b[0m 17ms/step - loss: 0.0148\n",
      "Epoch 5/5\n",
      "\u001b[1m50/50\u001b[0m \u001b[32m━━━━━━━━━━━━━━━━━━━━\u001b[0m\u001b[37m\u001b[0m \u001b[1m1s\u001b[0m 17ms/step - loss: 0.0147\n",
      "\n",
      "Training LSTM | Start Day: 365, Time Steps: 14\n"
     ]
    },
    {
     "name": "stderr",
     "output_type": "stream",
     "text": [
      "/usr/local/lib/python3.11/dist-packages/keras/src/layers/rnn/rnn.py:204: UserWarning: Do not pass an `input_shape`/`input_dim` argument to a layer. When using Sequential models, prefer using an `Input(shape)` object as the first layer in the model instead.\n",
      "  super().__init__(**kwargs)\n"
     ]
    },
    {
     "name": "stdout",
     "output_type": "stream",
     "text": [
      "Epoch 1/5\n",
      "\u001b[1m49/49\u001b[0m \u001b[32m━━━━━━━━━━━━━━━━━━━━\u001b[0m\u001b[37m\u001b[0m \u001b[1m5s\u001b[0m 32ms/step - loss: 0.0202\n",
      "Epoch 2/5\n",
      "\u001b[1m49/49\u001b[0m \u001b[32m━━━━━━━━━━━━━━━━━━━━\u001b[0m\u001b[37m\u001b[0m \u001b[1m2s\u001b[0m 32ms/step - loss: 0.0163\n",
      "Epoch 3/5\n",
      "\u001b[1m49/49\u001b[0m \u001b[32m━━━━━━━━━━━━━━━━━━━━\u001b[0m\u001b[37m\u001b[0m \u001b[1m2s\u001b[0m 32ms/step - loss: 0.0156\n",
      "Epoch 4/5\n",
      "\u001b[1m49/49\u001b[0m \u001b[32m━━━━━━━━━━━━━━━━━━━━\u001b[0m\u001b[37m\u001b[0m \u001b[1m2s\u001b[0m 31ms/step - loss: 0.0153\n",
      "Epoch 5/5\n",
      "\u001b[1m49/49\u001b[0m \u001b[32m━━━━━━━━━━━━━━━━━━━━\u001b[0m\u001b[37m\u001b[0m \u001b[1m2s\u001b[0m 32ms/step - loss: 0.0149\n",
      "\n",
      "Training GRU | Start Day: 365, Time Steps: 14\n",
      "Epoch 1/5\n",
      "\u001b[1m49/49\u001b[0m \u001b[32m━━━━━━━━━━━━━━━━━━━━\u001b[0m\u001b[37m\u001b[0m \u001b[1m4s\u001b[0m 31ms/step - loss: 0.0195\n",
      "Epoch 2/5\n",
      "\u001b[1m49/49\u001b[0m \u001b[32m━━━━━━━━━━━━━━━━━━━━\u001b[0m\u001b[37m\u001b[0m \u001b[1m2s\u001b[0m 32ms/step - loss: 0.0155\n",
      "Epoch 3/5\n",
      "\u001b[1m49/49\u001b[0m \u001b[32m━━━━━━━━━━━━━━━━━━━━\u001b[0m\u001b[37m\u001b[0m \u001b[1m2s\u001b[0m 31ms/step - loss: 0.0151\n",
      "Epoch 4/5\n",
      "\u001b[1m49/49\u001b[0m \u001b[32m━━━━━━━━━━━━━━━━━━━━\u001b[0m\u001b[37m\u001b[0m \u001b[1m2s\u001b[0m 31ms/step - loss: 0.0148\n",
      "Epoch 5/5\n",
      "\u001b[1m49/49\u001b[0m \u001b[32m━━━━━━━━━━━━━━━━━━━━\u001b[0m\u001b[37m\u001b[0m \u001b[1m2s\u001b[0m 31ms/step - loss: 0.0143\n",
      "\n",
      "Experiment Summary:\n",
      "   model  start_day  time_steps      loss  train_time_sec\n",
      "3    GRU          0          14  0.012565       22.549907\n",
      "1    GRU          0           7  0.012626       13.948035\n",
      "0   LSTM          0           7  0.012790       16.187660\n",
      "2   LSTM          0          14  0.012833       22.762548\n",
      "7    GRU        150          14  0.013242       21.344934\n",
      "5    GRU        150           7  0.013344       12.991432\n",
      "4   LSTM        150           7  0.013532       13.246893\n",
      "6   LSTM        150          14  0.013642       21.266705\n",
      "11   GRU        365          14  0.014336       18.516737\n",
      "9    GRU        365           7  0.014609       11.483608\n",
      "8   LSTM        365           7  0.014813       12.287387\n",
      "10  LSTM        365          14  0.014877       19.203611\n"
     ]
    },
    {
     "data": {
      "image/png": "[encoded data removed]",
      "text/plain": [
       "<Figure size 1200x600 with 1 Axes>"
      ]
     },
     "metadata": {},
     "output_type": "display_data"
    }
   ],
   "source": [
    "# --- 6. EXPERIMENT LOOP --- #\n",
    "results = []\n",
    "\n",
    "for start_day in start_day_options:\n",
    "    sales_df = load_sales_data(start_day)\n",
    "    for time_steps in time_steps_options:\n",
    "        event_df = create_event_feature(start_day, len(sales_df))\n",
    "        X, y, scaler = prepare_sequences(sales_df, event_df, time_steps)\n",
    "\n",
    "        for model_type in models_to_test:\n",
    "            print(f\"\\nTraining {model_type} | Start Day: {start_day}, Time Steps: {time_steps}\")\n",
    "            model = build_model(model_type, (X.shape[1], X.shape[2]), y.shape[1])\n",
    "            start_time = time.time()\n",
    "            history = model.fit(X, y, epochs=5, batch_size=32, verbose=1)\n",
    "            elapsed = time.time() - start_time\n",
    "            final_loss = history.history['loss'][-1]\n",
    "            results.append({\n",
    "                'model': model_type,\n",
    "                'start_day': start_day,\n",
    "                'time_steps': time_steps,\n",
    "                'loss': final_loss,\n",
    "                'train_time_sec': elapsed\n",
    "            })\n",
    "\n",
    "# --- 7. RESULTS SUMMARY --- #\n",
    "results_df = pd.DataFrame(results)\n",
    "print(\"\\nExperiment Summary:\")\n",
    "print(results_df.sort_values(by='loss'))\n",
    "\n",
    "# --- 8. VISUALIZE PERFORMANCE --- #\n",
    "plt.figure(figsize=(12, 6))\n",
    "for model_type in models_to_test:\n",
    "    subset = results_df[results_df['model'] == model_type]\n",
    "    plt.plot(subset['time_steps'], subset['loss'], label=f\"{model_type} loss\")\n",
    "plt.title('Model Loss Across Different Time Steps')\n",
    "plt.xlabel('Time Steps')\n",
    "plt.ylabel('Loss')\n",
    "plt.legend()\n",
    "plt.grid(True)\n",
    "plt.show()"
   ]
  },
  {
   "cell_type": "markdown",
   "metadata": {},
   "source": [
    "## GRU Hyperparameter Tuning and Submission Generation"
   ]
  },
  {
   "cell_type": "code",
   "execution_count": 7,
   "metadata": {
    "execution": {
     "iopub.execute_input": "2025-04-15T17:52:19.531100Z",
     "iopub.status.busy": "2025-04-15T17:52:19.530330Z",
     "iopub.status.idle": "2025-04-15T17:52:29.010532Z",
     "shell.execute_reply": "2025-04-15T17:52:29.009874Z",
     "shell.execute_reply.started": "2025-04-15T17:52:19.531071Z"
    }
   },
   "outputs": [],
   "source": [
    "# M5 Forecasting - GRU Hyperparameter Tuning and Submission Generation\n",
    "\n",
    "import numpy as np\n",
    "import pandas as pd\n",
    "import matplotlib.pyplot as plt\n",
    "from sklearn.preprocessing import MinMaxScaler\n",
    "from keras.models import Sequential\n",
    "from keras.layers import Dense, GRU, Dropout\n",
    "from keras.callbacks import EarlyStopping\n",
    "import time\n",
    "\n",
    "# --- CONFIGURATION --- #\n",
    "data_path = \"/kaggle/input/m5-forecasting-accuracy/\"\n",
    "time_steps = 14\n",
    "start_day = 0\n",
    "forecast_days = 28\n",
    "\n",
    "# --- LOAD AND PREPARE SALES DATA --- #\n",
    "sales = pd.read_csv(data_path + \"sales_train_evaluation.csv\")\n",
    "d_cols = [col for col in sales.columns if col.startswith('d_')]\n",
    "sales = sales[['id'] + d_cols[start_day:]]\n",
    "sales_df = sales.set_index('id').T.reset_index(drop=True)\n",
    "\n",
    "# --- CREATE EVENT FEATURE --- #\n",
    "calendar = pd.read_csv(data_path + \"calendar.csv\")\n",
    "event_flag = np.zeros((calendar.shape[0], 1))\n",
    "event_flag[np.where(calendar['event_name_1'].notna())[0] - 1] = 1\n",
    "event_df = pd.DataFrame(event_flag, columns=['event_tomorrow'])\n",
    "event_train = event_df[start_day:start_day + len(sales_df)].reset_index(drop=True)\n",
    "event_test = event_df[start_day + len(sales_df):start_day + len(sales_df) + forecast_days]\n",
    "\n",
    "# --- SCALE & MERGE --- #\n",
    "scaler = MinMaxScaler()\n",
    "merged = pd.concat([sales_df, event_train], axis=1)\n",
    "scaled = scaler.fit_transform(merged)\n",
    "\n",
    "# --- BUILD SEQUENCES --- #\n",
    "X, y = [], []\n",
    "for i in range(time_steps, len(scaled)):\n",
    "    X.append(scaled[i - time_steps:i])\n",
    "    y.append(scaled[i][:sales_df.shape[1]])\n",
    "X = np.array(X)\n",
    "y = np.array(y)\n",
    "\n"
   ]
  },
  {
   "cell_type": "code",
   "execution_count": 8,
   "metadata": {
    "execution": {
     "iopub.execute_input": "2025-04-15T17:52:29.012265Z",
     "iopub.status.busy": "2025-04-15T17:52:29.011974Z",
     "iopub.status.idle": "2025-04-15T17:54:08.687702Z",
     "shell.execute_reply": "2025-04-15T17:54:08.686909Z",
     "shell.execute_reply.started": "2025-04-15T17:52:29.012243Z"
    }
   },
   "outputs": [
    {
     "name": "stdout",
     "output_type": "stream",
     "text": [
      "Training GRU with: {'units': 64, 'dropout': 0.2, 'batch_size': 32}\n"
     ]
    },
    {
     "name": "stderr",
     "output_type": "stream",
     "text": [
      "/usr/local/lib/python3.11/dist-packages/keras/src/layers/rnn/rnn.py:204: UserWarning: Do not pass an `input_shape`/`input_dim` argument to a layer. When using Sequential models, prefer using an `Input(shape)` object as the first layer in the model instead.\n",
      "  super().__init__(**kwargs)\n",
      "/usr/local/lib/python3.11/dist-packages/keras/src/callbacks/early_stopping.py:155: UserWarning: Early stopping conditioned on metric `val_loss` which is not available. Available metrics are: loss\n",
      "  current = self.get_monitor_value(logs)\n"
     ]
    },
    {
     "name": "stdout",
     "output_type": "stream",
     "text": [
      "Final Loss: 0.01211\n",
      "Training GRU with: {'units': 128, 'dropout': 0.3, 'batch_size': 64}\n",
      "Final Loss: 0.01217\n",
      "Training GRU with: {'units': 256, 'dropout': 0.2, 'batch_size': 128}\n",
      "Final Loss: 0.01223\n",
      "\n",
      "Best GRU Parameters: {'units': 64, 'dropout': 0.2, 'batch_size': 32}\n"
     ]
    }
   ],
   "source": [
    "# --- HYPERPARAMETER TUNING --- #\n",
    "hyperparams = [\n",
    "    {'units': 64, 'dropout': 0.2, 'batch_size': 32},\n",
    "    {'units': 128, 'dropout': 0.3, 'batch_size': 64},\n",
    "    {'units': 256, 'dropout': 0.2, 'batch_size': 128},\n",
    "]\n",
    "\n",
    "best_model = None\n",
    "best_loss = float('inf')\n",
    "best_params = None\n",
    "\n",
    "for params in hyperparams:\n",
    "    print(f\"Training GRU with: {params}\")\n",
    "    model = Sequential()\n",
    "    model.add(GRU(params['units'], return_sequences=True, input_shape=(X.shape[1], X.shape[2])))\n",
    "    model.add(Dropout(params['dropout']))\n",
    "    model.add(GRU(params['units']))\n",
    "    model.add(Dropout(params['dropout']))\n",
    "    model.add(Dense(y.shape[1]))\n",
    "    model.compile(optimizer='adam', loss='mean_squared_error')\n",
    "    es = EarlyStopping(patience=3, restore_best_weights=True)\n",
    "    history = model.fit(X, y, epochs=10, batch_size=params['batch_size'], verbose=0, callbacks=[es])\n",
    "    final_loss = history.history['loss'][-1]\n",
    "    print(f\"Final Loss: {final_loss:.5f}\")\n",
    "\n",
    "    if final_loss < best_loss:\n",
    "        best_loss = final_loss\n",
    "        best_model = model\n",
    "        best_params = params\n",
    "\n",
    "print(\"\\nBest GRU Parameters:\", best_params)\n",
    "\n"
   ]
  },
  {
   "cell_type": "markdown",
   "metadata": {},
   "source": [
    "## Forecasting with best GRU"
   ]
  },
  {
   "cell_type": "code",
   "execution_count": 9,
   "metadata": {
    "execution": {
     "iopub.execute_input": "2025-04-15T17:55:30.912562Z",
     "iopub.status.busy": "2025-04-15T17:55:30.911952Z",
     "iopub.status.idle": "2025-04-15T17:55:35.787765Z",
     "shell.execute_reply": "2025-04-15T17:55:35.787042Z",
     "shell.execute_reply.started": "2025-04-15T17:55:30.912523Z"
    }
   },
   "outputs": [
    {
     "name": "stdout",
     "output_type": "stream",
     "text": [
      "\u001b[1m1/1\u001b[0m \u001b[32m━━━━━━━━━━━━━━━━━━━━\u001b[0m\u001b[37m\u001b[0m \u001b[1m0s\u001b[0m 189ms/step\n",
      "\u001b[1m1/1\u001b[0m \u001b[32m━━━━━━━━━━━━━━━━━━━━\u001b[0m\u001b[37m\u001b[0m \u001b[1m0s\u001b[0m 18ms/step\n",
      "\u001b[1m1/1\u001b[0m \u001b[32m━━━━━━━━━━━━━━━━━━━━\u001b[0m\u001b[37m\u001b[0m \u001b[1m0s\u001b[0m 18ms/step\n",
      "\u001b[1m1/1\u001b[0m \u001b[32m━━━━━━━━━━━━━━━━━━━━\u001b[0m\u001b[37m\u001b[0m \u001b[1m0s\u001b[0m 19ms/step\n",
      "\u001b[1m1/1\u001b[0m \u001b[32m━━━━━━━━━━━━━━━━━━━━\u001b[0m\u001b[37m\u001b[0m \u001b[1m0s\u001b[0m 17ms/step\n",
      "\u001b[1m1/1\u001b[0m \u001b[32m━━━━━━━━━━━━━━━━━━━━\u001b[0m\u001b[37m\u001b[0m \u001b[1m0s\u001b[0m 18ms/step\n",
      "\u001b[1m1/1\u001b[0m \u001b[32m━━━━━━━━━━━━━━━━━━━━\u001b[0m\u001b[37m\u001b[0m \u001b[1m0s\u001b[0m 17ms/step\n",
      "\u001b[1m1/1\u001b[0m \u001b[32m━━━━━━━━━━━━━━━━━━━━\u001b[0m\u001b[37m\u001b[0m \u001b[1m0s\u001b[0m 18ms/step\n",
      "\u001b[1m1/1\u001b[0m \u001b[32m━━━━━━━━━━━━━━━━━━━━\u001b[0m\u001b[37m\u001b[0m \u001b[1m0s\u001b[0m 17ms/step\n",
      "\u001b[1m1/1\u001b[0m \u001b[32m━━━━━━━━━━━━━━━━━━━━\u001b[0m\u001b[37m\u001b[0m \u001b[1m0s\u001b[0m 17ms/step\n",
      "\u001b[1m1/1\u001b[0m \u001b[32m━━━━━━━━━━━━━━━━━━━━\u001b[0m\u001b[37m\u001b[0m \u001b[1m0s\u001b[0m 17ms/step\n",
      "\u001b[1m1/1\u001b[0m \u001b[32m━━━━━━━━━━━━━━━━━━━━\u001b[0m\u001b[37m\u001b[0m \u001b[1m0s\u001b[0m 17ms/step\n",
      "\u001b[1m1/1\u001b[0m \u001b[32m━━━━━━━━━━━━━━━━━━━━\u001b[0m\u001b[37m\u001b[0m \u001b[1m0s\u001b[0m 17ms/step\n",
      "\u001b[1m1/1\u001b[0m \u001b[32m━━━━━━━━━━━━━━━━━━━━\u001b[0m\u001b[37m\u001b[0m \u001b[1m0s\u001b[0m 17ms/step\n",
      "\u001b[1m1/1\u001b[0m \u001b[32m━━━━━━━━━━━━━━━━━━━━\u001b[0m\u001b[37m\u001b[0m \u001b[1m0s\u001b[0m 17ms/step\n",
      "\u001b[1m1/1\u001b[0m \u001b[32m━━━━━━━━━━━━━━━━━━━━\u001b[0m\u001b[37m\u001b[0m \u001b[1m0s\u001b[0m 18ms/step\n",
      "\u001b[1m1/1\u001b[0m \u001b[32m━━━━━━━━━━━━━━━━━━━━\u001b[0m\u001b[37m\u001b[0m \u001b[1m0s\u001b[0m 17ms/step\n",
      "\u001b[1m1/1\u001b[0m \u001b[32m━━━━━━━━━━━━━━━━━━━━\u001b[0m\u001b[37m\u001b[0m \u001b[1m0s\u001b[0m 17ms/step\n",
      "\u001b[1m1/1\u001b[0m \u001b[32m━━━━━━━━━━━━━━━━━━━━\u001b[0m\u001b[37m\u001b[0m \u001b[1m0s\u001b[0m 17ms/step\n",
      "\u001b[1m1/1\u001b[0m \u001b[32m━━━━━━━━━━━━━━━━━━━━\u001b[0m\u001b[37m\u001b[0m \u001b[1m0s\u001b[0m 18ms/step\n",
      "\u001b[1m1/1\u001b[0m \u001b[32m━━━━━━━━━━━━━━━━━━━━\u001b[0m\u001b[37m\u001b[0m \u001b[1m0s\u001b[0m 17ms/step\n",
      "\u001b[1m1/1\u001b[0m \u001b[32m━━━━━━━━━━━━━━━━━━━━\u001b[0m\u001b[37m\u001b[0m \u001b[1m0s\u001b[0m 18ms/step\n",
      "\u001b[1m1/1\u001b[0m \u001b[32m━━━━━━━━━━━━━━━━━━━━\u001b[0m\u001b[37m\u001b[0m \u001b[1m0s\u001b[0m 17ms/step\n",
      "\u001b[1m1/1\u001b[0m \u001b[32m━━━━━━━━━━━━━━━━━━━━\u001b[0m\u001b[37m\u001b[0m \u001b[1m0s\u001b[0m 17ms/step\n",
      "\u001b[1m1/1\u001b[0m \u001b[32m━━━━━━━━━━━━━━━━━━━━\u001b[0m\u001b[37m\u001b[0m \u001b[1m0s\u001b[0m 17ms/step\n",
      "\u001b[1m1/1\u001b[0m \u001b[32m━━━━━━━━━━━━━━━━━━━━\u001b[0m\u001b[37m\u001b[0m \u001b[1m0s\u001b[0m 18ms/step\n",
      "\u001b[1m1/1\u001b[0m \u001b[32m━━━━━━━━━━━━━━━━━━━━\u001b[0m\u001b[37m\u001b[0m \u001b[1m0s\u001b[0m 17ms/step\n",
      "\u001b[1m1/1\u001b[0m \u001b[32m━━━━━━━━━━━━━━━━━━━━\u001b[0m\u001b[37m\u001b[0m \u001b[1m0s\u001b[0m 18ms/step\n",
      "Submission saved as gru_submission_1744739733.csv\n"
     ]
    }
   ],
   "source": [
    "# --- FORECASTING WITH BEST GRU --- #\n",
    "predictions = []\n",
    "input_seq = scaled[-time_steps:]\n",
    "forecast_input = [input_seq]\n",
    "forecast_input = np.array(forecast_input)\n",
    "\n",
    "for i in range(forecast_days):\n",
    "    next_pred = best_model.predict(forecast_input[:, -time_steps:, :])\n",
    "    next_event = event_test.iloc[i].values.reshape(1, 1)\n",
    "    combined = np.concatenate((next_pred, next_event), axis=1)\n",
    "    forecast_input = np.append(forecast_input, combined.reshape(1, 1, -1), axis=1)\n",
    "    predictions.append(next_pred)\n",
    "\n",
    "# --- INVERSE SCALE AND EXPORT --- #\n",
    "pred_array = np.array(predictions).reshape(forecast_days, -1)\n",
    "dummy_events = np.zeros((forecast_days, 1))\n",
    "pred_scaled = np.concatenate([pred_array, dummy_events], axis=1)\n",
    "pred_inv = scaler.inverse_transform(pred_scaled)[:, :sales_df.shape[1]]\n",
    "\n",
    "# Create submission file\n",
    "sample_sub = pd.read_csv(data_path + \"sample_submission.csv\")\n",
    "ids = sample_sub['id'].values[:30490]\n",
    "submission = pd.DataFrame(pred_inv, columns=ids).T.reset_index(drop=True)\n",
    "submission.columns = [f\"F{i+1}\" for i in range(forecast_days)]\n",
    "submission['id'] = ids\n",
    "submission = pd.concat([submission, submission], ignore_index=True)\n",
    "submission['id'] = sample_sub['id']\n",
    "submission = submission[['id'] + [f\"F{i+1}\" for i in range(forecast_days)]]\n",
    "\n",
    "filename = f\"gru_submission_{int(time.time())}.csv\"\n",
    "submission.to_csv(filename, index=False)\n",
    "print(f\"Submission saved as {filename}\")"
   ]
  }
 ],
 "metadata": {
  "kaggle": {
   "accelerator": "none",
   "dataSources": [
    {
     "databundleVersionId": 1236839,
     "sourceId": 18599,
     "sourceType": "competition"
    }
   ],
   "dockerImageVersionId": 31011,
   "isGpuEnabled": false,
   "isInternetEnabled": true,
   "language": "python",
   "sourceType": "notebook"
  },
  "kernelspec": {
   "display_name": "Python (mymeditruth)",
   "language": "python",
   "name": "mymeditruth"
  },
  "language_info": {
   "codemirror_mode": {
    "name": "ipython",
    "version": 3
   },
   "file_extension": ".py",
   "mimetype": "text/x-python",
   "name": "python",
   "nbconvert_exporter": "python",
   "pygments_lexer": "ipython3",
   "version": "3.10.16"
  }
 },
 "nbformat": 4,
 "nbformat_minor": 4
}
